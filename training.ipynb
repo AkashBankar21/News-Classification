{
 "cells": [
  {
   "cell_type": "code",
   "execution_count": 1,
   "metadata": {},
   "outputs": [
    {
     "name": "stdout",
     "output_type": "stream",
     "text": [
      "Requirement already satisfied: emoji in c:\\users\\log1c\\appdata\\local\\packages\\pythonsoftwarefoundation.python.3.11_qbz5n2kfra8p0\\localcache\\local-packages\\python311\\site-packages (2.10.1)\n"
     ]
    },
    {
     "name": "stderr",
     "output_type": "stream",
     "text": [
      "[nltk_data] Downloading package stopwords to\n",
      "[nltk_data]     C:\\Users\\LoG1c\\AppData\\Roaming\\nltk_data...\n",
      "[nltk_data]   Package stopwords is already up-to-date!\n",
      "[nltk_data] Downloading package punkt to\n",
      "[nltk_data]     C:\\Users\\LoG1c\\AppData\\Roaming\\nltk_data...\n",
      "[nltk_data]   Package punkt is already up-to-date!\n"
     ]
    },
    {
     "name": "stdout",
     "output_type": "stream",
     "text": [
      "Requirement already satisfied: tweet_preprocessor in c:\\users\\log1c\\appdata\\local\\packages\\pythonsoftwarefoundation.python.3.11_qbz5n2kfra8p0\\localcache\\local-packages\\python311\\site-packages (0.6.0)\n",
      "Requirement already satisfied: twitter-text-python in c:\\users\\log1c\\appdata\\local\\packages\\pythonsoftwarefoundation.python.3.11_qbz5n2kfra8p0\\localcache\\local-packages\\python311\\site-packages (1.1.1)\n",
      "Requirement already satisfied: emoji in c:\\users\\log1c\\appdata\\local\\packages\\pythonsoftwarefoundation.python.3.11_qbz5n2kfra8p0\\localcache\\local-packages\\python311\\site-packages (2.10.1)\n"
     ]
    }
   ],
   "source": [
    "import pandas as pd\n",
    "import numpy as np\n",
    "import seaborn as sns\n",
    "import matplotlib.pyplot as plt\n",
    "import re\n",
    "! pip install emoji\n",
    "import emoji\n",
    "\n",
    "# some NLP libraries that can help us with preprocessing\n",
    "import nltk\n",
    "nltk.download('stopwords')\n",
    "nltk.download('punkt')\n",
    "\n",
    "! pip install tweet_preprocessor\n",
    "import preprocessor as tweet_preprocessor\n",
    "! pip install twitter-text-python\n",
    "from ttp import ttp\n",
    "! pip install emoji\n",
    "import emoji\n",
    "import torch"
   ]
  },
  {
   "cell_type": "code",
   "execution_count": 2,
   "metadata": {},
   "outputs": [],
   "source": [
    "data = pd.read_csv('./data.csv')"
   ]
  },
  {
   "cell_type": "code",
   "execution_count": 3,
   "metadata": {},
   "outputs": [],
   "source": [
    "def convert_to_emoji(text):\n",
    "    return emoji.demojize(text)"
   ]
  },
  {
   "cell_type": "code",
   "execution_count": 4,
   "metadata": {},
   "outputs": [],
   "source": [
    "tweets = data['tweet']\n",
    "tweets_tokenized = []\n",
    "tt = nltk.tokenize.TweetTokenizer()\n",
    "for tweet in tweets:\n",
    "    tweet = convert_to_emoji(tweet)\n",
    "    # initializing punctuations string\n",
    "    punc = '''!()-[]{};:'\"\\,<>./?@#$%^&*_~\"'?'''\n",
    " \n",
    "    # Removing punctuations in string\n",
    "    # Using loop + punctuation string\n",
    "    for ele in tweet:\n",
    "        if ele in punc:\n",
    "            tweet = tweet.replace(ele, \"\")\n",
    " \n",
    "    tweets_tokenized.append(tt.tokenize(text=tweet))"
   ]
  },
  {
   "cell_type": "code",
   "execution_count": 5,
   "metadata": {},
   "outputs": [],
   "source": [
    "#remove stopwords\n",
    "stemmer = nltk.stem.porter.PorterStemmer()\n",
    "stoplist = nltk.corpus.stopwords.words('english')\n",
    "\n",
    "stemmed = []\n",
    "\n",
    "for tweet in tweets_tokenized:\n",
    "    processed_tokens = [stemmer.stem(t) for t in tweet if t not in stoplist]\n",
    "    stemmed.append(processed_tokens)"
   ]
  },
  {
   "cell_type": "code",
   "execution_count": 6,
   "metadata": {},
   "outputs": [],
   "source": [
    "def super_simple_preprocess(text):\n",
    "  # lowercase\n",
    "  text = text.lower()\n",
    "  # remove non alphanumeric characters\n",
    "  text = re.sub('[^A-Za-z0-9 ]+','', text)\n",
    "  return text"
   ]
  },
  {
   "cell_type": "code",
   "execution_count": 7,
   "metadata": {},
   "outputs": [
    {
     "data": {
      "text/plain": [
       "(10600, 1)"
      ]
     },
     "execution_count": 7,
     "metadata": {},
     "output_type": "execute_result"
    }
   ],
   "source": [
    "data_updated = []\n",
    "for tweet in stemmed:\n",
    "    data_updated.append(super_simple_preprocess(\" \".join(tweet)))\n",
    "pd.DataFrame(data_updated).shape"
   ]
  },
  {
   "cell_type": "code",
   "execution_count": 8,
   "metadata": {},
   "outputs": [],
   "source": [
    "data_updated = pd.DataFrame(data_updated)\n",
    "data_updated.insert(1, 'w', data['label'])\n",
    "data = data_updated"
   ]
  },
  {
   "cell_type": "code",
   "execution_count": 9,
   "metadata": {},
   "outputs": [
    {
     "data": {
      "text/html": [
       "<div>\n",
       "<style scoped>\n",
       "    .dataframe tbody tr th:only-of-type {\n",
       "        vertical-align: middle;\n",
       "    }\n",
       "\n",
       "    .dataframe tbody tr th {\n",
       "        vertical-align: top;\n",
       "    }\n",
       "\n",
       "    .dataframe thead th {\n",
       "        text-align: right;\n",
       "    }\n",
       "</style>\n",
       "<table border=\"1\" class=\"dataframe\">\n",
       "  <thead>\n",
       "    <tr style=\"text-align: right;\">\n",
       "      <th></th>\n",
       "      <th>0</th>\n",
       "      <th>w</th>\n",
       "    </tr>\n",
       "  </thead>\n",
       "  <tbody>\n",
       "    <tr>\n",
       "      <th>0</th>\n",
       "      <td>the cdc current report 99031 death in gener di...</td>\n",
       "      <td>real</td>\n",
       "    </tr>\n",
       "    <tr>\n",
       "      <th>1</th>\n",
       "      <td>state report 1121 death small rise last tuesda...</td>\n",
       "      <td>real</td>\n",
       "    </tr>\n",
       "    <tr>\n",
       "      <th>2</th>\n",
       "      <td>polit correct woman almost use pandem excus no...</td>\n",
       "      <td>fake</td>\n",
       "    </tr>\n",
       "    <tr>\n",
       "      <th>3</th>\n",
       "      <td>indiafightscorona we 1524 covid test laborator...</td>\n",
       "      <td>real</td>\n",
       "    </tr>\n",
       "    <tr>\n",
       "      <th>4</th>\n",
       "      <td>popul state gener larg case count look new cas...</td>\n",
       "      <td>real</td>\n",
       "    </tr>\n",
       "  </tbody>\n",
       "</table>\n",
       "</div>"
      ],
      "text/plain": [
       "                                                   0     w\n",
       "0  the cdc current report 99031 death in gener di...  real\n",
       "1  state report 1121 death small rise last tuesda...  real\n",
       "2  polit correct woman almost use pandem excus no...  fake\n",
       "3  indiafightscorona we 1524 covid test laborator...  real\n",
       "4  popul state gener larg case count look new cas...  real"
      ]
     },
     "execution_count": 9,
     "metadata": {},
     "output_type": "execute_result"
    }
   ],
   "source": [
    "data.head()"
   ]
  },
  {
   "cell_type": "code",
   "execution_count": 10,
   "metadata": {},
   "outputs": [],
   "source": [
    "sentences = data.iloc[:, 0]"
   ]
  },
  {
   "cell_type": "code",
   "execution_count": 11,
   "metadata": {},
   "outputs": [],
   "source": [
    "labels = data['w']"
   ]
  },
  {
   "cell_type": "code",
   "execution_count": 12,
   "metadata": {},
   "outputs": [],
   "source": [
    "labels.replace('real',1, inplace=True)\n",
    "labels.replace('fake',0, inplace=True)"
   ]
  },
  {
   "cell_type": "code",
   "execution_count": 13,
   "metadata": {},
   "outputs": [],
   "source": [
    "from sklearn.feature_extraction.text import TfidfVectorizer\n",
    "vectorizer = TfidfVectorizer()\n",
    "X = vectorizer.fit_transform(sentences)"
   ]
  },
  {
   "cell_type": "code",
   "execution_count": 14,
   "metadata": {},
   "outputs": [],
   "source": [
    "X = X.toarray()"
   ]
  },
  {
   "cell_type": "code",
   "execution_count": 15,
   "metadata": {},
   "outputs": [],
   "source": [
    "y = labels"
   ]
  },
  {
   "cell_type": "code",
   "execution_count": 16,
   "metadata": {},
   "outputs": [
    {
     "name": "stdout",
     "output_type": "stream",
     "text": [
      "Train :  8480 Test :  1060 Val :  1060\n"
     ]
    }
   ],
   "source": [
    "from sklearn.model_selection import train_test_split\n",
    "X_train, X_test, y_train, y_test = train_test_split(X, y, test_size=0.2,shuffle=True)\n",
    "X_val, X_test, y_val, y_test = train_test_split(X_test, y_test, test_size=0.5)\n",
    "print(\"Train : \", len(X_train),\"Test : \", len(X_test),\"Val : \", len(X_val))"
   ]
  },
  {
   "cell_type": "code",
   "execution_count": 17,
   "metadata": {},
   "outputs": [],
   "source": [
    "X_train = torch.FloatTensor(X_train)\n",
    "y_train = torch.LongTensor(y_train.values)\n",
    "X_test = torch.FloatTensor(X_test)\n",
    "y_test = torch.LongTensor(y_test.values)\n",
    "X_val = torch.FloatTensor(X_val)\n",
    "y_val = torch.LongTensor(y_val.values)\n"
   ]
  },
  {
   "cell_type": "code",
   "execution_count": 18,
   "metadata": {},
   "outputs": [],
   "source": [
    "import torch.nn as nn\n",
    "from torch.utils.data import DataLoader, Dataset\n",
    "# Define custom dataset class\n",
    "class CustomDataset(Dataset):\n",
    "    def __init__(self, X, y):\n",
    "        self.X = X\n",
    "        self.y = y\n",
    "\n",
    "    def __len__(self):\n",
    "        return len(self.X)\n",
    "\n",
    "    def __getitem__(self, idx):\n",
    "        return self.X[idx], self.y[idx]"
   ]
  },
  {
   "cell_type": "code",
   "execution_count": 19,
   "metadata": {},
   "outputs": [],
   "source": [
    "# Define neural network model\n",
    "class Model(nn.Module):\n",
    "    def __init__(self):\n",
    "        super(Model, self).__init__()\n",
    "        self.fc1 = nn.Linear(X_train.shape[1], 128)\n",
    "        self.fc2 = nn.Linear(128, 64)\n",
    "        self.fc3 = nn.Linear(64, 2)\n",
    "\n",
    "    def forward(self, x):\n",
    "        x = torch.relu(self.fc1(x))\n",
    "        x = torch.relu(self.fc2(x))\n",
    "        x = self.fc3(x)\n",
    "        return x"
   ]
  },
  {
   "cell_type": "code",
   "execution_count": 20,
   "metadata": {},
   "outputs": [
    {
     "name": "stderr",
     "output_type": "stream",
     "text": [
      "C:\\Users\\LoG1c\\AppData\\Local\\Packages\\PythonSoftwareFoundation.Python.3.11_qbz5n2kfra8p0\\LocalCache\\local-packages\\Python311\\site-packages\\tqdm\\auto.py:21: TqdmWarning: IProgress not found. Please update jupyter and ipywidgets. See https://ipywidgets.readthedocs.io/en/stable/user_install.html\n",
      "  from .autonotebook import tqdm as notebook_tqdm\n"
     ]
    }
   ],
   "source": [
    "# Instantiate model, loss, and optimizer\n",
    "model = Model()\n",
    "criterion = nn.CrossEntropyLoss()\n",
    "optimizer = torch.optim.Adam(model.parameters(), lr=0.001)"
   ]
  },
  {
   "cell_type": "code",
   "execution_count": 21,
   "metadata": {},
   "outputs": [],
   "source": [
    "# Define DataLoader\n",
    "train_dataset = CustomDataset(X_train, y_train)\n",
    "train_loader = DataLoader(train_dataset, batch_size=32, shuffle=True)"
   ]
  },
  {
   "cell_type": "code",
   "execution_count": 22,
   "metadata": {},
   "outputs": [
    {
     "name": "stdout",
     "output_type": "stream",
     "text": [
      "Accuracy: 0.9471698113207547\n"
     ]
    }
   ],
   "source": [
    "# Training loop\n",
    "num_epochs = 10\n",
    "for epoch in range(num_epochs):\n",
    "    for inputs, labels in train_loader:\n",
    "        optimizer.zero_grad()\n",
    "        outputs = model(inputs)\n",
    "        loss = criterion(outputs, labels)\n",
    "        loss.backward()\n",
    "        optimizer.step()\n",
    "\n",
    "# Evaluation\n",
    "model.eval()\n",
    "with torch.no_grad():\n",
    "    outputs = model(X_val)\n",
    "    _, predicted = torch.max(outputs, 1)\n",
    "    accuracy = (predicted == y_val).sum().item() / len(y_val)\n",
    "    print(f'Accuracy: {accuracy}')"
   ]
  },
  {
   "cell_type": "code",
   "execution_count": 23,
   "metadata": {},
   "outputs": [],
   "source": [
    "import fasttext"
   ]
  },
  {
   "cell_type": "code",
   "execution_count": 24,
   "metadata": {},
   "outputs": [],
   "source": [
    "data = pd.read_csv('./data.csv')\n",
    "labels = data['label']\n",
    "labels.replace('real',1, inplace=True)\n",
    "labels.replace('fake',0, inplace=True)\n",
    "data['combined'] = \"__label__\" + data['label'].astype(str) + \" \" + data['tweet'].astype(str)\n",
    "train, test = train_test_split(data, test_size=0.2)\n",
    "test, val = train_test_split(test, test_size=0.5)"
   ]
  },
  {
   "cell_type": "code",
   "execution_count": 30,
   "metadata": {},
   "outputs": [],
   "source": [
    "train.to_csv('data.train', columns=['combined'], index=False, header=False)\n",
    "test.to_csv('data.test', columns=['combined'], index=False, header=False)\n",
    "val.to_csv('data.val', columns=['combined'], index=False, header=False)"
   ]
  },
  {
   "cell_type": "code",
   "execution_count": 31,
   "metadata": {},
   "outputs": [
    {
     "data": {
      "text/plain": [
       "(898, 0.9298440979955457, 0.9298440979955457)"
      ]
     },
     "execution_count": 31,
     "metadata": {},
     "output_type": "execute_result"
    }
   ],
   "source": [
    "model = fasttext.train_supervised(input='data.train')\n",
    "model.test('data.test')"
   ]
  },
  {
   "cell_type": "code",
   "execution_count": 32,
   "metadata": {},
   "outputs": [],
   "source": [
    "model.save_model(path='./model.bin')"
   ]
  },
  {
   "cell_type": "code",
   "execution_count": 33,
   "metadata": {},
   "outputs": [],
   "source": [
    "# Load the pre-trained FastText model\n",
    "fasttext_model = fasttext.load_model('./model.bin')\n",
    "# Tokenize input sentences\n",
    "tokenized_sentences = [sentence.split() for sentence in sentences]\n",
    "# Determine the maximum input length\n",
    "max_inp_len = max(len(tokens) for tokens in tokenized_sentences)\n",
    "# Dimension of FastText embeddings\n",
    "d = fasttext_model.get_dimension()\n",
    "# Initialize matrix with zeros\n",
    "matrix = np.zeros((len(sentences), max_inp_len, d), dtype=np.float32)\n",
    "# Fill the matrix with FastText embeddings\n",
    "for i, tokens in enumerate(tokenized_sentences):\n",
    "    for j, token in enumerate(tokens):\n",
    "        matrix[i, j] = fasttext_model[token]\n",
    "\n",
    "train_matrix = matrix[:8480, :, :]\n",
    "test_matrix = matrix[9540:, :, :]\n",
    "val_matrix = matrix[8480 : 9540, :, :]\n",
    "train_labels = labels[:8480]\n",
    "test_labels = labels[9540:]\n",
    "val_labels = labels[8480 : 9540]\n",
    "\n",
    "train_matrix = pd.DataFrame(train_matrix.reshape(-1,106400))\n",
    "test_matrix = pd.DataFrame(test_matrix.reshape(-1, 106400))\n",
    "val_matrix = pd.DataFrame(val_matrix.reshape(-1, 106400))\n",
    "train_labels = pd.DataFrame(train_labels)\n",
    "test_labels = pd.DataFrame(test_labels)\n",
    "val_labels = pd.DataFrame(val_labels)"
   ]
  },
  {
   "cell_type": "code",
   "execution_count": 93,
   "metadata": {},
   "outputs": [
    {
     "data": {
      "text/plain": [
       "((8480, 106400),\n",
       " (1060, 106400),\n",
       " (1060, 106400),\n",
       " (8480, 1),\n",
       " (1060, 1),\n",
       " (1060, 1))"
      ]
     },
     "execution_count": 93,
     "metadata": {},
     "output_type": "execute_result"
    }
   ],
   "source": [
    "train_matrix.shape,test_matrix.shape,val_matrix.shape,train_labels.shape,test_labels.shape,val_labels.shape"
   ]
  },
  {
   "cell_type": "code",
   "execution_count": 46,
   "metadata": {},
   "outputs": [],
   "source": [
    "# If you're using PyTorch, you can create a custom dataset to handle this\n",
    "class CustomDataset(Dataset):\n",
    "    def __init__(self, matrix, labels):\n",
    "        self.x = torch.tensor(matrix.values, dtype=torch.float32).reshape(-1,1,106400)\n",
    "        self.y = torch.tensor(labels.values, dtype=torch.long).reshape(-1)\n",
    "\n",
    "    def __len__(self):\n",
    "        return len(self.y)\n",
    "\n",
    "    def __getitem__(self, idx):\n",
    "        return self.x[idx], self.y[idx]\n",
    "\n",
    "\n",
    "train_dataset = CustomDataset(train_matrix, train_labels)\n",
    "train_dataloader = DataLoader(train_dataset, batch_size=32, shuffle=True)\n",
    "val_dataset = CustomDataset(val_matrix, val_labels)\n",
    "val_dataloader = DataLoader(val_dataset, batch_size=32, shuffle=True)\n",
    "test_dataset = CustomDataset(test_matrix, test_labels)\n",
    "test_dataloader = DataLoader(test_dataset, batch_size=32, shuffle=True)"
   ]
  },
  {
   "cell_type": "code",
   "execution_count": 47,
   "metadata": {},
   "outputs": [
    {
     "name": "stdout",
     "output_type": "stream",
     "text": [
      "torch.Size([32, 1, 106400]) torch.Size([32])\n"
     ]
    }
   ],
   "source": [
    "for x,y in train_dataloader:\n",
    "    print(x.shape, y.shape)\n",
    "    break"
   ]
  },
  {
   "cell_type": "code",
   "execution_count": 48,
   "metadata": {},
   "outputs": [],
   "source": [
    "device = \"cuda\" if torch.cuda.is_available() else \"cpu\""
   ]
  },
  {
   "cell_type": "code",
   "execution_count": 49,
   "metadata": {},
   "outputs": [],
   "source": [
    "class Network(nn.Module):\n",
    "  def __init__(self, input_channel = 1, output_dim = 2):\n",
    "    super().__init__()\n",
    "    self.conv_1 = nn.Conv1d(1, 128, 28, stride = 28)\n",
    "    self.activation_1 = nn.ReLU()\n",
    "\n",
    "    self.conv_2 = nn.Conv1d(128, 256, 28, stride = 28)\n",
    "    self.activation_2 = nn.ReLU()\n",
    "\n",
    "    self.flatten = nn.Flatten()\n",
    "\n",
    "    self.linear_3 = nn.Linear(34560, output_dim)\n",
    "\n",
    "  def forward(self, x):\n",
    "    out = self.conv_1(x)\n",
    "    out = self.activation_1(out)\n",
    "\n",
    "    out = self.conv_2(out)\n",
    "    out = self.activation_2(out)\n",
    "\n",
    "    out = self.flatten(out)\n",
    "\n",
    "    out = self.linear_3(out)\n",
    "\n",
    "    return out"
   ]
  },
  {
   "cell_type": "code",
   "execution_count": 50,
   "metadata": {},
   "outputs": [],
   "source": [
    "network = Network().to(device)"
   ]
  },
  {
   "cell_type": "code",
   "execution_count": 51,
   "metadata": {},
   "outputs": [
    {
     "name": "stdout",
     "output_type": "stream",
     "text": [
      "----------------------------------------------------------------\n",
      "        Layer (type)               Output Shape         Param #\n",
      "================================================================\n",
      "            Conv1d-1            [-1, 128, 3800]           3,712\n",
      "              ReLU-2            [-1, 128, 3800]               0\n",
      "            Conv1d-3             [-1, 256, 135]         917,760\n",
      "              ReLU-4             [-1, 256, 135]               0\n",
      "           Flatten-5                [-1, 34560]               0\n",
      "            Linear-6                    [-1, 2]          69,122\n",
      "================================================================\n",
      "Total params: 990,594\n",
      "Trainable params: 990,594\n",
      "Non-trainable params: 0\n",
      "----------------------------------------------------------------\n",
      "Input size (MB): 0.41\n",
      "Forward/backward pass size (MB): 8.21\n",
      "Params size (MB): 3.78\n",
      "Estimated Total Size (MB): 12.40\n",
      "----------------------------------------------------------------\n"
     ]
    }
   ],
   "source": [
    "from torchsummary import summary\n",
    "summary(network, (1, 106400))"
   ]
  },
  {
   "cell_type": "code",
   "execution_count": 52,
   "metadata": {},
   "outputs": [],
   "source": [
    "criterion = nn.CrossEntropyLoss()\n",
    "optim = torch.optim.Adam(network.parameters(), lr = 0.001)\n",
    "epochs = 10"
   ]
  },
  {
   "cell_type": "code",
   "execution_count": 53,
   "metadata": {},
   "outputs": [],
   "source": [
    "train_epoch_loss = []\n",
    "eval_epoch_loss = []"
   ]
  },
  {
   "cell_type": "code",
   "execution_count": 54,
   "metadata": {},
   "outputs": [],
   "source": [
    "import torch\n",
    "import torch.nn as nn\n",
    "from torch.utils.data import Dataset\n",
    "from torch.utils.data import DataLoader\n",
    "import numpy as np\n",
    "import pandas as pd\n",
    "from sklearn.model_selection import train_test_split\n",
    "from tqdm import tqdm"
   ]
  },
  {
   "cell_type": "code",
   "execution_count": 55,
   "metadata": {},
   "outputs": [
    {
     "name": "stderr",
     "output_type": "stream",
     "text": [
      "  0%|          | 0/10 [00:00<?, ?it/s]"
     ]
    },
    {
     "name": "stderr",
     "output_type": "stream",
     "text": [
      "100%|██████████| 10/10 [01:23<00:00,  8.36s/it]\n"
     ]
    }
   ],
   "source": [
    "for epoch in tqdm(range(epochs)):\n",
    "    curr_loss = 0\n",
    "    total = 0\n",
    "    for train_x, train_y in train_dataloader:\n",
    "        train_x = train_x.to(device)\n",
    "        train_y = train_y.to(device)\n",
    "        optim.zero_grad()\n",
    "\n",
    "        y_pred = network(train_x)\n",
    "        loss = criterion(y_pred, train_y)\n",
    "\n",
    "        loss.backward()\n",
    "        optim.step()\n",
    "\n",
    "        curr_loss += loss.item()\n",
    "        total += len(train_y)\n",
    "    train_epoch_loss.append(curr_loss / total)\n",
    "\n",
    "    curr_loss = 0\n",
    "    total = 0\n",
    "    for eval_x, eval_y in val_dataloader:\n",
    "        eval_x = eval_x.to(device)\n",
    "        eval_y = eval_y.to(device)\n",
    "        optim.zero_grad()\n",
    "\n",
    "        with torch.no_grad():\n",
    "            y_pred = network(eval_x)\n",
    "\n",
    "        loss = criterion(y_pred, eval_y)\n",
    "\n",
    "        curr_loss += loss.item()\n",
    "        total += len(train_y)\n",
    "    eval_epoch_loss.append(curr_loss / total)"
   ]
  },
  {
   "cell_type": "code",
   "execution_count": 56,
   "metadata": {},
   "outputs": [
    {
     "data": {
      "image/png": "[encoded data removed]",
      "text/plain": [
       "<Figure size 640x480 with 1 Axes>"
      ]
     },
     "metadata": {},
     "output_type": "display_data"
    }
   ],
   "source": [
    "import matplotlib.pyplot as plt\n",
    "\n",
    "plt.plot(range(epochs), train_epoch_loss, label='train')\n",
    "plt.plot(range(epochs), eval_epoch_loss, label='eval')\n",
    "plt.xlabel('Epoch')\n",
    "plt.ylabel('Loss')\n",
    "plt.legend()\n",
    "plt.show()"
   ]
  },
  {
   "cell_type": "code",
   "execution_count": 57,
   "metadata": {},
   "outputs": [
    {
     "name": "stdout",
     "output_type": "stream",
     "text": [
      "Accuracy on Test Data 80.38\n"
     ]
    }
   ],
   "source": [
    "correct = 0\n",
    "total = 0\n",
    "for x, y in test_dataloader:\n",
    "    x = x.to(device)\n",
    "    with torch.no_grad():\n",
    "        yp = network(x)\n",
    "    yp = torch.argmax(yp.cpu(), dim = 1)\n",
    "    correct += (yp == y).sum()\n",
    "    total += len(y)\n",
    "print(f\"Accuracy on Test Data {(correct * 100 / total):.2f}\")"
   ]
  },
  {
   "cell_type": "code",
   "execution_count": 96,
   "metadata": {},
   "outputs": [],
   "source": [
    "import torch\n",
    "import torch.nn as nn\n",
    "from torch.utils.data import Dataset, DataLoader\n",
    "import numpy as np\n",
    "import pandas as pd\n",
    "from tqdm import tqdm"
   ]
  },
  {
   "cell_type": "code",
   "execution_count": 103,
   "metadata": {},
   "outputs": [],
   "source": [
    "# Define the LSTM model\n",
    "class LSTMNetwork(nn.Module):\n",
    "    def __init__(self, input_size=106400, hidden_size=128, num_layers=2, output_size=2):\n",
    "        super(LSTMNetwork, self).__init__()\n",
    "        self.hidden_size = hidden_size\n",
    "        self.num_layers = num_layers\n",
    "        self.lstm = nn.LSTM(input_size, hidden_size, num_layers, batch_first=True)\n",
    "        self.fc = nn.Linear(hidden_size, output_size)\n",
    "\n",
    "    def forward(self, x):\n",
    "        h0 = torch.zeros(self.num_layers, x.size(0), self.hidden_size).to(device)\n",
    "        c0 = torch.zeros(self.num_layers, x.size(0), self.hidden_size).to(device)\n",
    "        out, _ = self.lstm(x, (h0, c0))\n",
    "        out = self.fc(out[:, -1, :])\n",
    "        return out"
   ]
  },
  {
   "cell_type": "code",
   "execution_count": 104,
   "metadata": {},
   "outputs": [],
   "source": [
    "# Define a custom dataset class\n",
    "class CustomDataset(Dataset):\n",
    "    def __init__(self, matrix, labels):\n",
    "        self.x = torch.tensor(matrix.values, dtype=torch.float32).reshape(-1, 1, 106400)  # Assuming FastText embedding dimension is 300\n",
    "        self.y = torch.tensor(labels.values, dtype=torch.long).reshape(-1)\n",
    "\n",
    "    def __len__(self):\n",
    "        return len(self.y)\n",
    "\n",
    "    def __getitem__(self, idx):\n",
    "        return self.x[idx], self.y[idx]\n"
   ]
  },
  {
   "cell_type": "code",
   "execution_count": 105,
   "metadata": {},
   "outputs": [],
   "source": [
    "train_dataset = CustomDataset(train_matrix, train_labels)\n",
    "train_dataloader = DataLoader(train_dataset, batch_size=32, shuffle=True)\n",
    "val_dataset = CustomDataset(val_matrix, val_labels)\n",
    "val_dataloader = DataLoader(val_dataset, batch_size=32, shuffle=True)\n",
    "test_dataset = CustomDataset(test_matrix, test_labels)\n",
    "test_dataloader = DataLoader(test_dataset, batch_size=32, shuffle=True)"
   ]
  },
  {
   "cell_type": "code",
   "execution_count": 106,
   "metadata": {},
   "outputs": [],
   "source": [
    "# Define device\n",
    "device = torch.device(\"cuda\" if torch.cuda.is_available() else \"cpu\")\n",
    "\n",
    "# Instantiate the LSTM model\n",
    "lstm_network = LSTMNetwork().to(device)\n",
    "\n",
    "# Define criterion and optimizer\n",
    "criterion = nn.CrossEntropyLoss()\n",
    "optimizer = torch.optim.Adam(lstm_network.parameters(), lr=0.001)\n",
    "\n",
    "# Training loop\n",
    "epochs = 10\n",
    "train_epoch_loss = []\n",
    "eval_epoch_loss = []"
   ]
  },
  {
   "cell_type": "code",
   "execution_count": 107,
   "metadata": {},
   "outputs": [
    {
     "name": "stderr",
     "output_type": "stream",
     "text": [
      "100%|██████████| 10/10 [01:13<00:00,  7.38s/it]\n"
     ]
    }
   ],
   "source": [
    "for epoch in tqdm(range(epochs)):\n",
    "    lstm_network.train()\n",
    "    total_train_loss = 0.0\n",
    "    total_train_samples = 0\n",
    "    for train_x, train_y in train_dataloader:\n",
    "        train_x = train_x.to(device)\n",
    "        train_y = train_y.to(device)\n",
    "        \n",
    "        optimizer.zero_grad()\n",
    "        \n",
    "        outputs = lstm_network(train_x)\n",
    "        loss = criterion(outputs, train_y)\n",
    "        loss.backward()\n",
    "        optimizer.step()\n",
    "        \n",
    "        total_train_loss += loss.item() * train_x.size(0)\n",
    "        total_train_samples += train_x.size(0)\n",
    "    \n",
    "    train_epoch_loss.append(total_train_loss / total_train_samples)\n",
    "\n",
    "    lstm_network.eval()\n",
    "    total_eval_loss = 0.0\n",
    "    total_eval_samples = 0\n",
    "    for eval_x, eval_y in val_dataloader:\n",
    "        eval_x = eval_x.to(device)\n",
    "        eval_y = eval_y.to(device)\n",
    "        \n",
    "        with torch.no_grad():\n",
    "            outputs = lstm_network(eval_x)\n",
    "            loss = criterion(outputs, eval_y)\n",
    "        \n",
    "        total_eval_loss += loss.item() * eval_x.size(0)\n",
    "        total_eval_samples += eval_x.size(0)\n",
    "    \n",
    "    eval_epoch_loss.append(total_eval_loss / total_eval_samples)\n",
    "\n",
    "\n"
   ]
  },
  {
   "cell_type": "code",
   "execution_count": 109,
   "metadata": {},
   "outputs": [
    {
     "data": {
      "image/png": "[encoded data removed]",
      "text/plain": [
       "<Figure size 640x480 with 1 Axes>"
      ]
     },
     "metadata": {},
     "output_type": "display_data"
    }
   ],
   "source": [
    "import matplotlib.pyplot as plt\n",
    "\n",
    "plt.plot(range(epochs), train_epoch_loss, label='train')\n",
    "plt.plot(range(epochs), eval_epoch_loss, label='eval')\n",
    "plt.xlabel('Epoch')\n",
    "plt.ylabel('Loss')\n",
    "plt.legend()\n",
    "plt.show()"
   ]
  },
  {
   "cell_type": "code",
   "execution_count": 108,
   "metadata": {},
   "outputs": [
    {
     "name": "stdout",
     "output_type": "stream",
     "text": [
      "Accuracy on test set: 80.09%\n"
     ]
    }
   ],
   "source": [
    "# Testing the model\n",
    "lstm_network.eval()\n",
    "correct = 0\n",
    "total = 0\n",
    "with torch.no_grad():\n",
    "    for test_x, test_y in test_dataloader:\n",
    "        test_x = test_x.to(device)\n",
    "        test_y = test_y.to(device)\n",
    "        outputs = lstm_network(test_x)\n",
    "        _, predicted = torch.max(outputs.data, 1)\n",
    "        total += test_y.size(0)\n",
    "        correct += (predicted == test_y).sum().item()\n",
    "\n",
    "print('Accuracy on test set: {:.2f}%'.format(100 * correct / total))"
   ]
  },
  {
   "cell_type": "code",
   "execution_count": 5,
   "metadata": {},
   "outputs": [
    {
     "name": "stderr",
     "output_type": "stream",
     "text": [
      "[I 2024-03-13 11:31:35,224] A new study created in memory with name: no-name-430c4d0a-928b-43aa-a682-6d3c5b1d7a15\n",
      "[W 2024-03-13 11:31:35,509] Trial 0 failed with parameters: {'conv1_out_channels': 45, 'conv1_kernel_size': 8, 'conv1_stride': 3, 'conv2_out_channels': 331, 'conv2_kernel_size': 16, 'conv2_stride': 3, 'linear_out_features': 164} because of the following error: RuntimeError('mat1 and mat2 shapes cannot be multiplied (32x3911427 and 164x2)').\n",
      "Traceback (most recent call last):\n",
      "  File \"C:\\Users\\LoG1c\\AppData\\Local\\Packages\\PythonSoftwareFoundation.Python.3.11_qbz5n2kfra8p0\\LocalCache\\local-packages\\Python311\\site-packages\\optuna\\study\\_optimize.py\", line 200, in _run_trial\n",
      "    value_or_values = func(trial)\n",
      "                      ^^^^^^^^^^^\n",
      "  File \"C:\\Users\\LoG1c\\AppData\\Local\\Temp\\ipykernel_16904\\1906035945.py\", line 83, in objective\n",
      "    y_pred = network(train_x)\n",
      "             ^^^^^^^^^^^^^^^^\n",
      "  File \"C:\\Users\\LoG1c\\AppData\\Local\\Packages\\PythonSoftwareFoundation.Python.3.11_qbz5n2kfra8p0\\LocalCache\\local-packages\\Python311\\site-packages\\torch\\nn\\modules\\module.py\", line 1511, in _wrapped_call_impl\n",
      "    return self._call_impl(*args, **kwargs)\n",
      "           ^^^^^^^^^^^^^^^^^^^^^^^^^^^^^^^^\n",
      "  File \"C:\\Users\\LoG1c\\AppData\\Local\\Packages\\PythonSoftwareFoundation.Python.3.11_qbz5n2kfra8p0\\LocalCache\\local-packages\\Python311\\site-packages\\torch\\nn\\modules\\module.py\", line 1520, in _call_impl\n",
      "    return forward_call(*args, **kwargs)\n",
      "           ^^^^^^^^^^^^^^^^^^^^^^^^^^^^^\n",
      "  File \"C:\\Users\\LoG1c\\AppData\\Local\\Temp\\ipykernel_16904\\1906035945.py\", line 46, in forward\n",
      "    out = self.linear_3(out)\n",
      "          ^^^^^^^^^^^^^^^^^^\n",
      "  File \"C:\\Users\\LoG1c\\AppData\\Local\\Packages\\PythonSoftwareFoundation.Python.3.11_qbz5n2kfra8p0\\LocalCache\\local-packages\\Python311\\site-packages\\torch\\nn\\modules\\module.py\", line 1511, in _wrapped_call_impl\n",
      "    return self._call_impl(*args, **kwargs)\n",
      "           ^^^^^^^^^^^^^^^^^^^^^^^^^^^^^^^^\n",
      "  File \"C:\\Users\\LoG1c\\AppData\\Local\\Packages\\PythonSoftwareFoundation.Python.3.11_qbz5n2kfra8p0\\LocalCache\\local-packages\\Python311\\site-packages\\torch\\nn\\modules\\module.py\", line 1520, in _call_impl\n",
      "    return forward_call(*args, **kwargs)\n",
      "           ^^^^^^^^^^^^^^^^^^^^^^^^^^^^^\n",
      "  File \"C:\\Users\\LoG1c\\AppData\\Local\\Packages\\PythonSoftwareFoundation.Python.3.11_qbz5n2kfra8p0\\LocalCache\\local-packages\\Python311\\site-packages\\torch\\nn\\modules\\linear.py\", line 116, in forward\n",
      "    return F.linear(input, self.weight, self.bias)\n",
      "           ^^^^^^^^^^^^^^^^^^^^^^^^^^^^^^^^^^^^^^^\n",
      "RuntimeError: mat1 and mat2 shapes cannot be multiplied (32x3911427 and 164x2)\n",
      "[W 2024-03-13 11:31:35,509] Trial 0 failed with value None.\n"
     ]
    },
    {
     "ename": "ValueError",
     "evalue": "No trials are completed yet.",
     "output_type": "error",
     "traceback": [
      "\u001b[1;31m---------------------------------------------------------------------------\u001b[0m",
      "\u001b[1;31mValueError\u001b[0m                                Traceback (most recent call last)",
      "Cell \u001b[1;32mIn[5], line 157\u001b[0m\n\u001b[0;32m    154\u001b[0m     \u001b[38;5;28;01mpass\u001b[39;00m\n\u001b[0;32m    156\u001b[0m \u001b[38;5;66;03m# Get the best hyperparameters\u001b[39;00m\n\u001b[1;32m--> 157\u001b[0m best_params \u001b[38;5;241m=\u001b[39m \u001b[43mstudy\u001b[49m\u001b[38;5;241;43m.\u001b[39;49m\u001b[43mbest_params\u001b[49m\n\u001b[0;32m    158\u001b[0m \u001b[38;5;28mprint\u001b[39m(best_params)\n",
      "File \u001b[1;32m~\\AppData\\Local\\Packages\\PythonSoftwareFoundation.Python.3.11_qbz5n2kfra8p0\\LocalCache\\local-packages\\Python311\\site-packages\\optuna\\study\\study.py:114\u001b[0m, in \u001b[0;36mStudy.best_params\u001b[1;34m(self)\u001b[0m\n\u001b[0;32m    102\u001b[0m \u001b[38;5;129m@property\u001b[39m\n\u001b[0;32m    103\u001b[0m \u001b[38;5;28;01mdef\u001b[39;00m \u001b[38;5;21mbest_params\u001b[39m(\u001b[38;5;28mself\u001b[39m) \u001b[38;5;241m-\u001b[39m\u001b[38;5;241m>\u001b[39m \u001b[38;5;28mdict\u001b[39m[\u001b[38;5;28mstr\u001b[39m, Any]:\n\u001b[0;32m    104\u001b[0m \u001b[38;5;250m    \u001b[39m\u001b[38;5;124;03m\"\"\"Return parameters of the best trial in the study.\u001b[39;00m\n\u001b[0;32m    105\u001b[0m \n\u001b[0;32m    106\u001b[0m \u001b[38;5;124;03m    .. note::\u001b[39;00m\n\u001b[1;32m   (...)\u001b[0m\n\u001b[0;32m    111\u001b[0m \n\u001b[0;32m    112\u001b[0m \u001b[38;5;124;03m    \"\"\"\u001b[39;00m\n\u001b[1;32m--> 114\u001b[0m     \u001b[38;5;28;01mreturn\u001b[39;00m \u001b[38;5;28;43mself\u001b[39;49m\u001b[38;5;241;43m.\u001b[39;49m\u001b[43mbest_trial\u001b[49m\u001b[38;5;241m.\u001b[39mparams\n",
      "File \u001b[1;32m~\\AppData\\Local\\Packages\\PythonSoftwareFoundation.Python.3.11_qbz5n2kfra8p0\\LocalCache\\local-packages\\Python311\\site-packages\\optuna\\study\\study.py:157\u001b[0m, in \u001b[0;36mStudy.best_trial\u001b[1;34m(self)\u001b[0m\n\u001b[0;32m    151\u001b[0m \u001b[38;5;28;01mif\u001b[39;00m \u001b[38;5;28mself\u001b[39m\u001b[38;5;241m.\u001b[39m_is_multi_objective():\n\u001b[0;32m    152\u001b[0m     \u001b[38;5;28;01mraise\u001b[39;00m \u001b[38;5;167;01mRuntimeError\u001b[39;00m(\n\u001b[0;32m    153\u001b[0m         \u001b[38;5;124m\"\u001b[39m\u001b[38;5;124mA single best trial cannot be retrieved from a multi-objective study. Consider \u001b[39m\u001b[38;5;124m\"\u001b[39m\n\u001b[0;32m    154\u001b[0m         \u001b[38;5;124m\"\u001b[39m\u001b[38;5;124musing Study.best_trials to retrieve a list containing the best trials.\u001b[39m\u001b[38;5;124m\"\u001b[39m\n\u001b[0;32m    155\u001b[0m     )\n\u001b[1;32m--> 157\u001b[0m \u001b[38;5;28;01mreturn\u001b[39;00m copy\u001b[38;5;241m.\u001b[39mdeepcopy(\u001b[38;5;28;43mself\u001b[39;49m\u001b[38;5;241;43m.\u001b[39;49m\u001b[43m_storage\u001b[49m\u001b[38;5;241;43m.\u001b[39;49m\u001b[43mget_best_trial\u001b[49m\u001b[43m(\u001b[49m\u001b[38;5;28;43mself\u001b[39;49m\u001b[38;5;241;43m.\u001b[39;49m\u001b[43m_study_id\u001b[49m\u001b[43m)\u001b[49m)\n",
      "File \u001b[1;32m~\\AppData\\Local\\Packages\\PythonSoftwareFoundation.Python.3.11_qbz5n2kfra8p0\\LocalCache\\local-packages\\Python311\\site-packages\\optuna\\storages\\_in_memory.py:234\u001b[0m, in \u001b[0;36mInMemoryStorage.get_best_trial\u001b[1;34m(self, study_id)\u001b[0m\n\u001b[0;32m    231\u001b[0m best_trial_id \u001b[38;5;241m=\u001b[39m \u001b[38;5;28mself\u001b[39m\u001b[38;5;241m.\u001b[39m_studies[study_id]\u001b[38;5;241m.\u001b[39mbest_trial_id\n\u001b[0;32m    233\u001b[0m \u001b[38;5;28;01mif\u001b[39;00m best_trial_id \u001b[38;5;129;01mis\u001b[39;00m \u001b[38;5;28;01mNone\u001b[39;00m:\n\u001b[1;32m--> 234\u001b[0m     \u001b[38;5;28;01mraise\u001b[39;00m \u001b[38;5;167;01mValueError\u001b[39;00m(\u001b[38;5;124m\"\u001b[39m\u001b[38;5;124mNo trials are completed yet.\u001b[39m\u001b[38;5;124m\"\u001b[39m)\n\u001b[0;32m    235\u001b[0m \u001b[38;5;28;01melif\u001b[39;00m \u001b[38;5;28mlen\u001b[39m(\u001b[38;5;28mself\u001b[39m\u001b[38;5;241m.\u001b[39m_studies[study_id]\u001b[38;5;241m.\u001b[39mdirections) \u001b[38;5;241m>\u001b[39m \u001b[38;5;241m1\u001b[39m:\n\u001b[0;32m    236\u001b[0m     \u001b[38;5;28;01mraise\u001b[39;00m \u001b[38;5;167;01mRuntimeError\u001b[39;00m(\n\u001b[0;32m    237\u001b[0m         \u001b[38;5;124m\"\u001b[39m\u001b[38;5;124mBest trial can be obtained only for single-objective optimization.\u001b[39m\u001b[38;5;124m\"\u001b[39m\n\u001b[0;32m    238\u001b[0m     )\n",
      "\u001b[1;31mValueError\u001b[0m: No trials are completed yet."
     ]
    }
   ],
   "source": [
    "import torch\n",
    "import torch.nn as nn\n",
    "from torch.utils.data import Dataset, DataLoader\n",
    "from tqdm import tqdm\n",
    "import matplotlib.pyplot as plt\n",
    "import pickle\n",
    "from sklearn.metrics import classification_report\n",
    "import optuna\n",
    "\n",
    "epochs = 2\n",
    "class CustomDataset(Dataset):\n",
    "    def __init__(self, matrix, labels):\n",
    "        self.x = torch.tensor(matrix.values, dtype=torch.float32).reshape(-1,1,106400)\n",
    "        self.y = torch.tensor(labels.values, dtype=torch.long).reshape(-1)\n",
    "\n",
    "    def __len__(self):\n",
    "        return len(self.y)\n",
    "\n",
    "    def __getitem__(self, idx):\n",
    "        return self.x[idx], self.y[idx]\n",
    "\n",
    "class Network(nn.Module):\n",
    "    def __init__(self, input_channel=1, output_dim=2, conv1_out_channels=128, conv1_kernel_size=28, \n",
    "                 conv1_stride=28, conv2_out_channels=256, conv2_kernel_size=28, conv2_stride=28,\n",
    "                 linear_out_features=34560):\n",
    "        super().__init__()\n",
    "        self.conv_1 = nn.Conv1d(input_channel, conv1_out_channels, conv1_kernel_size, stride=conv1_stride)\n",
    "        self.activation_1 = nn.ReLU()\n",
    "\n",
    "        self.conv_2 = nn.Conv1d(conv1_out_channels, conv2_out_channels, conv2_kernel_size, stride=conv2_stride)\n",
    "        self.activation_2 = nn.ReLU()\n",
    "\n",
    "        self.flatten = nn.Flatten()\n",
    "\n",
    "        self.linear_3 = nn.Linear(linear_out_features, output_dim)\n",
    "\n",
    "    def forward(self, x):\n",
    "        out = self.conv_1(x)\n",
    "        out = self.activation_1(out)\n",
    "\n",
    "        out = self.conv_2(out)\n",
    "        out = self.activation_2(out)\n",
    "\n",
    "        out = self.flatten(out)\n",
    "\n",
    "        out = self.linear_3(out)\n",
    "\n",
    "        return out\n",
    "\n",
    "def objective(trial):\n",
    "    # Define the hyperparameter search space\n",
    "    conv1_out_channels = trial.suggest_int('conv1_out_channels', 32, 256)\n",
    "    conv1_kernel_size = trial.suggest_int('conv1_kernel_size', 3, 30)\n",
    "    conv1_stride = trial.suggest_int('conv1_stride', 1, 5)\n",
    "    conv2_out_channels = trial.suggest_int('conv2_out_channels', 64, 512)\n",
    "    conv2_kernel_size = trial.suggest_int('conv2_kernel_size', 3, 30)\n",
    "    conv2_stride = trial.suggest_int('conv2_stride', 1, 5)\n",
    "    linear_out_features = trial.suggest_int('linear_out_features', 10, 1000)\n",
    "\n",
    "    # Initialize the model with suggested hyperparameters\n",
    "    network = Network(conv1_out_channels=conv1_out_channels,\n",
    "                    conv1_kernel_size=conv1_kernel_size,\n",
    "                    conv1_stride=conv1_stride,\n",
    "                    conv2_out_channels=conv2_out_channels,\n",
    "                    conv2_kernel_size=conv2_kernel_size,\n",
    "                    conv2_stride=conv2_stride,\n",
    "                    linear_out_features=linear_out_features).to(device)\n",
    "\n",
    "    # Define optimizer and criterion\n",
    "    criterion = nn.CrossEntropyLoss()\n",
    "    optim = torch.optim.Adam(network.parameters(), lr = 0.001)\n",
    "    epochs = 10\n",
    "\n",
    "    # Training loop\n",
    "    for epoch in range(epochs):\n",
    "        curr_loss = 0\n",
    "        total = 0\n",
    "        for train_x, train_y in train_dataloader:\n",
    "            train_x = train_x.to(device)\n",
    "            train_y = train_y.to(device)\n",
    "            optim.zero_grad()\n",
    "\n",
    "            y_pred = network(train_x)\n",
    "            loss = criterion(y_pred, train_y)\n",
    "\n",
    "            loss.backward()\n",
    "            optim.step()\n",
    "\n",
    "            curr_loss += loss.item()\n",
    "            total += len(train_y)\n",
    "        train_epoch_loss.append(curr_loss / total)\n",
    "\n",
    "        curr_loss = 0\n",
    "        total = 0\n",
    "        for eval_x, eval_y in val_dataloader:\n",
    "            eval_x = eval_x.to(device)\n",
    "            eval_y = eval_y.to(device)\n",
    "            optim.zero_grad()\n",
    "\n",
    "            with torch.no_grad():\n",
    "                y_pred = network(eval_x)\n",
    "\n",
    "            loss = criterion(y_pred, eval_y)\n",
    "\n",
    "            curr_loss += loss.item()\n",
    "            total += len(train_y)\n",
    "        eval_epoch_loss.append(curr_loss / total)\n",
    "\n",
    "\n",
    "    # Validation and returning the evaluation metric\n",
    "    correct = 0\n",
    "    total = 0\n",
    "    with torch.no_grad():\n",
    "        for eval_x, eval_y in val_dataloader:\n",
    "            eval_x = eval_x.to(device)\n",
    "            eval_y = eval_y.to(device)\n",
    "            y_pred = model(eval_x)\n",
    "            _, predicted = torch.max(y_pred, 1)\n",
    "            correct += (predicted == eval_y).sum().item()\n",
    "            total += eval_y.size(0)\n",
    "    validation_accuracy = correct / total\n",
    "\n",
    "    # Return the evaluation metric (accuracy in this case)\n",
    "    print(validation_accuracy)\n",
    "\n",
    "\n",
    "# Load data\n",
    "# Define train, val, test datasets and dataloaders\n",
    "with open('train_matrix.pickle', 'rb') as file:\n",
    "    train_matrix = pickle.load(file)\n",
    "with open('test_matrix.pickle', 'rb') as file:\n",
    "    test_matrix = pickle.load(file)\n",
    "with open('val_matrix.pickle', 'rb') as file:\n",
    "    val_matrix = pickle.load(file)\n",
    "with open('train_labels.pickle', 'rb') as file:\n",
    "    train_labels = pickle.load(file)\n",
    "with open('test_labels.pickle', 'rb') as file:\n",
    "    test_labels = pickle.load(file)\n",
    "with open('val_labels.pickle', 'rb') as file:\n",
    "    val_labels = pickle.load(file)\n",
    "train_dataset = CustomDataset(train_matrix, train_labels)\n",
    "train_dataloader = DataLoader(train_dataset, batch_size=32, shuffle=True)\n",
    "val_dataset = CustomDataset(val_matrix, val_labels)\n",
    "val_dataloader = DataLoader(val_dataset, batch_size=32, shuffle=True)\n",
    "test_dataset = CustomDataset(test_matrix, test_labels)\n",
    "test_dataloader = DataLoader(test_dataset, batch_size=32, shuffle=True)\n",
    "# Device setup\n",
    "device = \"cuda\" if torch.cuda.is_available() else \"cpu\"\n",
    "# Set up Optuna study\n",
    "try:\n",
    "    study = optuna.create_study(direction='maximize')\n",
    "    study.optimize(objective, n_trials=100)\n",
    "except:\n",
    "    pass\n",
    "\n",
    "# Get the best hyperparameters\n",
    "best_params = study.best_params\n",
    "print(best_params)\n"
   ]
  },
  {
   "cell_type": "code",
   "execution_count": null,
   "metadata": {},
   "outputs": [],
   "source": []
  },
  {
   "cell_type": "code",
   "execution_count": null,
   "metadata": {},
   "outputs": [],
   "source": []
  }
 ],
 "metadata": {
  "kernelspec": {
   "display_name": "Python 3",
   "language": "python",
   "name": "python3"
  },
  "language_info": {
   "codemirror_mode": {
    "name": "ipython",
    "version": 3
   },
   "file_extension": ".py",
   "mimetype": "text/x-python",
   "name": "python",
   "nbconvert_exporter": "python",
   "pygments_lexer": "ipython3",
   "version": "3.11.8"
  }
 },
 "nbformat": 4,
 "nbformat_minor": 2
}
